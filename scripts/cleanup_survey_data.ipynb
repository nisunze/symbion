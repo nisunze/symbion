{
 "metadata": {
  "language_info": {
   "codemirror_mode": {
    "name": "ipython",
    "version": 3
   },
   "file_extension": ".py",
   "mimetype": "text/x-python",
   "name": "python",
   "nbconvert_exporter": "python",
   "pygments_lexer": "ipython3",
   "version": "3.7.9-final"
  },
  "orig_nbformat": 2,
  "kernelspec": {
   "name": "python361064bit45b2d11352b3477ba624f82687c0bcb8",
   "display_name": "Python 3.6.10 64-bit",
   "language": "python"
  }
 },
 "nbformat": 4,
 "nbformat_minor": 2,
 "cells": [
  {
   "cell_type": "code",
   "execution_count": 1,
   "metadata": {},
   "outputs": [],
   "source": [
    "import pandas as pd\n",
    "from pathlib import Path\n",
    "import os"
   ]
  },
  {
   "cell_type": "code",
   "execution_count": 2,
   "metadata": {},
   "outputs": [
    {
     "output_type": "execute_result",
     "data": {
      "text/plain": [
       "   Count                  Name    Color  Hyperlink    Layer Linetype  \\\n",
       "0      1  Attribute Definition  ByLayer        NaN  TopoCod  ByLayer   \n",
       "1      1               TCPOINT  ByLayer        NaN   Points  ByLayer   \n",
       "2      1  Attribute Definition  ByLayer        NaN  TopoAlt  ByLayer   \n",
       "3      1                 Point  ByBlock        NaN        0  ByLayer   \n",
       "4      1  Attribute Definition  ByLayer        NaN  TopoMat  ByLayer   \n",
       "\n",
       "   Linetype Scale Lineweight Plot Style  Position X  Position Y  Position Z  \\\n",
       "0             1.0    ByLayer    ByLayer   421950.82  4806612.90     1835.29   \n",
       "1             1.0    ByLayer    ByLayer   422229.17  4806822.22     1754.29   \n",
       "2             1.0    ByLayer    ByLayer   421951.02  4806612.70     1835.29   \n",
       "3             1.0    ByLayer    ByBlock   421950.92  4806613.00     1835.29   \n",
       "4             1.0    ByLayer    ByLayer   421951.02  4806613.10     1835.29   \n",
       "\n",
       "       ALT  COD   MAT  \n",
       "0      NaN  NaN   NaN  \n",
       "1  1754.29  NaN  T.13  \n",
       "2      NaN  NaN   NaN  \n",
       "3      NaN  NaN   NaN  \n",
       "4      NaN  NaN   NaN  "
      ],
      "text/html": "<div>\n<style scoped>\n    .dataframe tbody tr th:only-of-type {\n        vertical-align: middle;\n    }\n\n    .dataframe tbody tr th {\n        vertical-align: top;\n    }\n\n    .dataframe thead th {\n        text-align: right;\n    }\n</style>\n<table border=\"1\" class=\"dataframe\">\n  <thead>\n    <tr style=\"text-align: right;\">\n      <th></th>\n      <th>Count</th>\n      <th>Name</th>\n      <th>Color</th>\n      <th>Hyperlink</th>\n      <th>Layer</th>\n      <th>Linetype</th>\n      <th>Linetype Scale</th>\n      <th>Lineweight</th>\n      <th>Plot Style</th>\n      <th>Position X</th>\n      <th>Position Y</th>\n      <th>Position Z</th>\n      <th>ALT</th>\n      <th>COD</th>\n      <th>MAT</th>\n    </tr>\n  </thead>\n  <tbody>\n    <tr>\n      <th>0</th>\n      <td>1</td>\n      <td>Attribute Definition</td>\n      <td>ByLayer</td>\n      <td>NaN</td>\n      <td>TopoCod</td>\n      <td>ByLayer</td>\n      <td>1.0</td>\n      <td>ByLayer</td>\n      <td>ByLayer</td>\n      <td>421950.82</td>\n      <td>4806612.90</td>\n      <td>1835.29</td>\n      <td>NaN</td>\n      <td>NaN</td>\n      <td>NaN</td>\n    </tr>\n    <tr>\n      <th>1</th>\n      <td>1</td>\n      <td>TCPOINT</td>\n      <td>ByLayer</td>\n      <td>NaN</td>\n      <td>Points</td>\n      <td>ByLayer</td>\n      <td>1.0</td>\n      <td>ByLayer</td>\n      <td>ByLayer</td>\n      <td>422229.17</td>\n      <td>4806822.22</td>\n      <td>1754.29</td>\n      <td>1754.29</td>\n      <td>NaN</td>\n      <td>T.13</td>\n    </tr>\n    <tr>\n      <th>2</th>\n      <td>1</td>\n      <td>Attribute Definition</td>\n      <td>ByLayer</td>\n      <td>NaN</td>\n      <td>TopoAlt</td>\n      <td>ByLayer</td>\n      <td>1.0</td>\n      <td>ByLayer</td>\n      <td>ByLayer</td>\n      <td>421951.02</td>\n      <td>4806612.70</td>\n      <td>1835.29</td>\n      <td>NaN</td>\n      <td>NaN</td>\n      <td>NaN</td>\n    </tr>\n    <tr>\n      <th>3</th>\n      <td>1</td>\n      <td>Point</td>\n      <td>ByBlock</td>\n      <td>NaN</td>\n      <td>0</td>\n      <td>ByLayer</td>\n      <td>1.0</td>\n      <td>ByLayer</td>\n      <td>ByBlock</td>\n      <td>421950.92</td>\n      <td>4806613.00</td>\n      <td>1835.29</td>\n      <td>NaN</td>\n      <td>NaN</td>\n      <td>NaN</td>\n    </tr>\n    <tr>\n      <th>4</th>\n      <td>1</td>\n      <td>Attribute Definition</td>\n      <td>ByLayer</td>\n      <td>NaN</td>\n      <td>TopoMat</td>\n      <td>ByLayer</td>\n      <td>1.0</td>\n      <td>ByLayer</td>\n      <td>ByLayer</td>\n      <td>421951.02</td>\n      <td>4806613.10</td>\n      <td>1835.29</td>\n      <td>NaN</td>\n      <td>NaN</td>\n      <td>NaN</td>\n    </tr>\n  </tbody>\n</table>\n</div>"
     },
     "metadata": {},
     "execution_count": 2
    }
   ],
   "source": [
    "path = Path(r'D:\\pro\\AEE\\JV Azouri & AEE Power\\CAD\\from')\n",
    "path = path/'ap-emma.csv'\n",
    "df = pd.read_csv(path)\n",
    "df.head()"
   ]
  },
  {
   "cell_type": "code",
   "execution_count": 10,
   "metadata": {},
   "outputs": [
    {
     "output_type": "execute_result",
     "data": {
      "text/plain": [
       "    Position X  Position Y  Position Z        MAT\n",
       "1    422229.17  4806822.22     1754.29       T.13\n",
       "6    422732.21  4807200.53     1757.49       T.15\n",
       "14   421696.09  4806373.64     1739.05  T.10(N).1\n",
       "16   421795.04  4806430.99     1794.03       T.11\n",
       "18   421950.92  4806613.00     1835.29       T.12\n",
       "27   423278.41  4807453.58     1759.16       T.18\n",
       "32   423449.83  4807399.59     1718.01       T.19\n",
       "36   422922.06  4807343.30     1740.54       T.16\n",
       "44   423130.59  4807500.11     1722.19       T.17\n",
       "46   420081.47  4805630.52     1557.64  T3(NEW).1\n",
       "51   420399.54  4805711.95     1609.61        T.4\n",
       "59   420630.08  4805770.97     1706.13        T.5\n",
       "61   419617.36  4805580.09     1467.78        T.1\n",
       "63   419765.16  4805549.54     1511.57        T.2\n",
       "72   421305.02  4806147.04     1762.93        T.8\n",
       "77   421464.63  4806239.53     1721.54   T.9(N).1\n",
       "81   420780.76  4805854.93     1672.38        T.6\n",
       "89   420998.88  4805976.47     1666.29        T.7"
      ],
      "text/html": "<div>\n<style scoped>\n    .dataframe tbody tr th:only-of-type {\n        vertical-align: middle;\n    }\n\n    .dataframe tbody tr th {\n        vertical-align: top;\n    }\n\n    .dataframe thead th {\n        text-align: right;\n    }\n</style>\n<table border=\"1\" class=\"dataframe\">\n  <thead>\n    <tr style=\"text-align: right;\">\n      <th></th>\n      <th>Position X</th>\n      <th>Position Y</th>\n      <th>Position Z</th>\n      <th>MAT</th>\n    </tr>\n  </thead>\n  <tbody>\n    <tr>\n      <th>1</th>\n      <td>422229.17</td>\n      <td>4806822.22</td>\n      <td>1754.29</td>\n      <td>T.13</td>\n    </tr>\n    <tr>\n      <th>6</th>\n      <td>422732.21</td>\n      <td>4807200.53</td>\n      <td>1757.49</td>\n      <td>T.15</td>\n    </tr>\n    <tr>\n      <th>14</th>\n      <td>421696.09</td>\n      <td>4806373.64</td>\n      <td>1739.05</td>\n      <td>T.10(N).1</td>\n    </tr>\n    <tr>\n      <th>16</th>\n      <td>421795.04</td>\n      <td>4806430.99</td>\n      <td>1794.03</td>\n      <td>T.11</td>\n    </tr>\n    <tr>\n      <th>18</th>\n      <td>421950.92</td>\n      <td>4806613.00</td>\n      <td>1835.29</td>\n      <td>T.12</td>\n    </tr>\n    <tr>\n      <th>27</th>\n      <td>423278.41</td>\n      <td>4807453.58</td>\n      <td>1759.16</td>\n      <td>T.18</td>\n    </tr>\n    <tr>\n      <th>32</th>\n      <td>423449.83</td>\n      <td>4807399.59</td>\n      <td>1718.01</td>\n      <td>T.19</td>\n    </tr>\n    <tr>\n      <th>36</th>\n      <td>422922.06</td>\n      <td>4807343.30</td>\n      <td>1740.54</td>\n      <td>T.16</td>\n    </tr>\n    <tr>\n      <th>44</th>\n      <td>423130.59</td>\n      <td>4807500.11</td>\n      <td>1722.19</td>\n      <td>T.17</td>\n    </tr>\n    <tr>\n      <th>46</th>\n      <td>420081.47</td>\n      <td>4805630.52</td>\n      <td>1557.64</td>\n      <td>T3(NEW).1</td>\n    </tr>\n    <tr>\n      <th>51</th>\n      <td>420399.54</td>\n      <td>4805711.95</td>\n      <td>1609.61</td>\n      <td>T.4</td>\n    </tr>\n    <tr>\n      <th>59</th>\n      <td>420630.08</td>\n      <td>4805770.97</td>\n      <td>1706.13</td>\n      <td>T.5</td>\n    </tr>\n    <tr>\n      <th>61</th>\n      <td>419617.36</td>\n      <td>4805580.09</td>\n      <td>1467.78</td>\n      <td>T.1</td>\n    </tr>\n    <tr>\n      <th>63</th>\n      <td>419765.16</td>\n      <td>4805549.54</td>\n      <td>1511.57</td>\n      <td>T.2</td>\n    </tr>\n    <tr>\n      <th>72</th>\n      <td>421305.02</td>\n      <td>4806147.04</td>\n      <td>1762.93</td>\n      <td>T.8</td>\n    </tr>\n    <tr>\n      <th>77</th>\n      <td>421464.63</td>\n      <td>4806239.53</td>\n      <td>1721.54</td>\n      <td>T.9(N).1</td>\n    </tr>\n    <tr>\n      <th>81</th>\n      <td>420780.76</td>\n      <td>4805854.93</td>\n      <td>1672.38</td>\n      <td>T.6</td>\n    </tr>\n    <tr>\n      <th>89</th>\n      <td>420998.88</td>\n      <td>4805976.47</td>\n      <td>1666.29</td>\n      <td>T.7</td>\n    </tr>\n  </tbody>\n</table>\n</div>"
     },
     "metadata": {},
     "execution_count": 10
    }
   ],
   "source": [
    "df = df[['Position X', 'Position Y', 'Position Z', 'MAT']]\n",
    "df.dropna(inplace=True)\n",
    "df"
   ]
  },
  {
   "cell_type": "code",
   "execution_count": 11,
   "metadata": {},
   "outputs": [
    {
     "output_type": "execute_result",
     "data": {
      "text/plain": [
       "array(['T.13', 'T.15', 'T.10(N).1', 'T.11', 'T.12', 'T.18', 'T.19',\n",
       "       'T.16', 'T.17', 'T3(NEW).1', 'T.4', 'T.5', 'T.1', 'T.2', 'T.8',\n",
       "       'T.9(N).1', 'T.6', 'T.7'], dtype=object)"
      ]
     },
     "metadata": {},
     "execution_count": 11
    }
   ],
   "source": [
    "df.MAT.unique()"
   ]
  },
  {
   "cell_type": "code",
   "execution_count": 12,
   "metadata": {},
   "outputs": [],
   "source": [
    "df.to_csv(path.parent/'ap_cleaned.txt', index=False, header=False)"
   ]
  }
 ]
}