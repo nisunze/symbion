{
 "cells": [
  {
   "cell_type": "code",
   "execution_count": 10,
   "metadata": {},
   "outputs": [],
   "source": [
    "import arcpy\n",
    "arcpy.env.overwriteOutput = True"
   ]
  },
  {
   "cell_type": "code",
   "execution_count": 11,
   "metadata": {},
   "outputs": [],
   "source": [
    "arcpy.env.workspace = r'D:\\pro\\AEE\\220kV Line\\Ligne 220kV\\Ligne 220kV.gdb'"
   ]
  },
  {
   "cell_type": "code",
   "execution_count": 12,
   "metadata": {},
   "outputs": [],
   "source": [
    "x = 'lineroute_coordinates_XYTableToPoint'\n",
    "y = 'rubavu_line_XYTableToPoint3'\n",
    "z = [x, y]"
   ]
  },
  {
   "cell_type": "code",
   "execution_count": 13,
   "metadata": {},
   "outputs": [],
   "source": [
    "out_cr = arcpy.SpatialReference(r'D:\\pro\\AEE\\220kV Line\\Data\\lineroute_coordinates_XYTableToPoint.prj')"
   ]
  },
  {
   "cell_type": "code",
   "execution_count": 14,
   "metadata": {},
   "outputs": [],
   "source": [
    "nix = arcpy.SpatialReference(r'D:\\pro\\AEE\\220kV Line\\Data\\rubavu_line_XYTableToPoint3.prj')"
   ]
  },
  {
   "cell_type": "code",
   "execution_count": 16,
   "metadata": {},
   "outputs": [
    {
     "ename": "ExecuteError",
     "evalue": "ERROR 999999: Something unexpected caused the tool to fail. Contact Esri Technical Support (http://esriurl.com/support) to Report a Bug, and refer to the error help for potential solutions or workarounds.\ninvalid extent for output coordinate system\nFailed to execute (Project).\n",
     "output_type": "error",
     "traceback": [
      "\u001b[0;31m---------------------------------------------------------------------------\u001b[0m\n\u001b[0;31mExecuteError\u001b[0m                              Traceback (most recent call last)",
      "In  \u001b[0;34m[16]\u001b[0m:\nLine \u001b[0;34m1\u001b[0m:     arcpy.management.Project(\u001b[33mr\u001b[39;49;00m\u001b[33m'\u001b[39;49;00m\u001b[33mD:\u001b[39;49;00m\u001b[33m\\\u001b[39;49;00m\u001b[33mpro\u001b[39;49;00m\u001b[33m\\\u001b[39;49;00m\u001b[33mAEE\u001b[39;49;00m\u001b[33m\\\u001b[39;49;00m\u001b[33m220kV Line\u001b[39;49;00m\u001b[33m\\\u001b[39;49;00m\u001b[33mData\u001b[39;49;00m\u001b[33m\\\u001b[39;49;00m\u001b[33mlineroute_coordinates_XYTableToPoint.shp\u001b[39;49;00m\u001b[33m'\u001b[39;49;00m, \u001b[33mr\u001b[39;49;00m\u001b[33m'\u001b[39;49;00m\u001b[33mD:\u001b[39;49;00m\u001b[33m\\\u001b[39;49;00m\u001b[33mpro\u001b[39;49;00m\u001b[33m\\\u001b[39;49;00m\u001b[33mAEE\u001b[39;49;00m\u001b[33m\\\u001b[39;49;00m\u001b[33m220kV Line\u001b[39;49;00m\u001b[33m\\\u001b[39;49;00m\u001b[33mData\u001b[39;49;00m\u001b[33m\\\u001b[39;49;00m\u001b[33mlineroute_coordinates_Point.shp\u001b[39;49;00m\u001b[33m'\u001b[39;49;00m, nix )\n",
      "File \u001b[0;34mc:\\program files\\arcgis\\pro\\Resources\\arcpy\\arcpy\\management.py\u001b[0m, in \u001b[0;32mProject\u001b[0m:\nLine \u001b[0;34m11492\u001b[0m: \u001b[34mraise\u001b[39;49;00m e\n",
      "File \u001b[0;34mc:\\program files\\arcgis\\pro\\Resources\\arcpy\\arcpy\\management.py\u001b[0m, in \u001b[0;32mProject\u001b[0m:\nLine \u001b[0;34m11489\u001b[0m: retval = convertArcObjectToPythonObject(gp.Project_management(*gp_fixargs((in_dataset, out_dataset, out_coor_system, transform_method, in_coor_system, preserve_shape, max_deviation, vertical), \u001b[34mTrue\u001b[39;49;00m)))\n",
      "File \u001b[0;34mc:\\program files\\arcgis\\pro\\Resources\\arcpy\\arcpy\\geoprocessing\\_base.py\u001b[0m, in \u001b[0;32m<lambda>\u001b[0m:\nLine \u001b[0;34m511\u001b[0m:   \u001b[34mreturn\u001b[39;49;00m \u001b[34mlambda\u001b[39;49;00m *args: val(*gp_fixargs(args, \u001b[34mTrue\u001b[39;49;00m))\n",
      "\u001b[0;31mExecuteError\u001b[0m: ERROR 999999: Something unexpected caused the tool to fail. Contact Esri Technical Support (http://esriurl.com/support) to Report a Bug, and refer to the error help for potential solutions or workarounds.\ninvalid extent for output coordinate system\nFailed to execute (Project).\n\n\u001b[0;31m---------------------------------------------------------------------------\u001b[0m"
     ]
    }
   ],
   "source": [
    "arcpy.management.Project(r'D:\\pro\\AEE\\220kV Line\\Data\\lineroute_coordinates_XYTableToPoint.shp', r'D:\\pro\\AEE\\220kV Line\\Data\\lineroute_coordinates_Point.shp', nix )"
   ]
  },
  {
   "cell_type": "code",
   "execution_count": 17,
   "metadata": {},
   "outputs": [
    {
     "name": "stdout",
     "output_type": "stream",
     "text": [
      "\u001b[1;31mSignature:\u001b[0m\n",
      "\u001b[0marcpy\u001b[0m\u001b[1;33m.\u001b[0m\u001b[0mmanagement\u001b[0m\u001b[1;33m.\u001b[0m\u001b[0mProject\u001b[0m\u001b[1;33m(\u001b[0m\u001b[1;33m\n",
      "\u001b[0m    \u001b[0min_dataset\u001b[0m\u001b[1;33m=\u001b[0m\u001b[1;32mNone\u001b[0m\u001b[1;33m,\u001b[0m\u001b[1;33m\n",
      "\u001b[0m    \u001b[0mout_dataset\u001b[0m\u001b[1;33m=\u001b[0m\u001b[1;32mNone\u001b[0m\u001b[1;33m,\u001b[0m\u001b[1;33m\n",
      "\u001b[0m    \u001b[0mout_coor_system\u001b[0m\u001b[1;33m=\u001b[0m\u001b[1;32mNone\u001b[0m\u001b[1;33m,\u001b[0m\u001b[1;33m\n",
      "\u001b[0m    \u001b[0mtransform_method\u001b[0m\u001b[1;33m=\u001b[0m\u001b[1;32mNone\u001b[0m\u001b[1;33m,\u001b[0m\u001b[1;33m\n",
      "\u001b[0m    \u001b[0min_coor_system\u001b[0m\u001b[1;33m=\u001b[0m\u001b[1;32mNone\u001b[0m\u001b[1;33m,\u001b[0m\u001b[1;33m\n",
      "\u001b[0m    \u001b[0mpreserve_shape\u001b[0m\u001b[1;33m=\u001b[0m\u001b[1;32mNone\u001b[0m\u001b[1;33m,\u001b[0m\u001b[1;33m\n",
      "\u001b[0m    \u001b[0mmax_deviation\u001b[0m\u001b[1;33m=\u001b[0m\u001b[1;32mNone\u001b[0m\u001b[1;33m,\u001b[0m\u001b[1;33m\n",
      "\u001b[0m    \u001b[0mvertical\u001b[0m\u001b[1;33m=\u001b[0m\u001b[1;32mNone\u001b[0m\u001b[1;33m,\u001b[0m\u001b[1;33m\n",
      "\u001b[0m\u001b[1;33m)\u001b[0m\u001b[1;33m\u001b[0m\u001b[1;33m\u001b[0m\u001b[0m\n",
      "\u001b[1;31mDocstring:\u001b[0m\n",
      "Project_management(in_dataset, out_dataset, out_coor_system, {transform_method;transform_method...}, {in_coor_system}, {preserve_shape}, {max_deviation}, {vertical})\n",
      "\n",
      "   Projects spatial data from one coordinate system to another.\n",
      "\n",
      "INPUTS:\n",
      " in_dataset (Feature Layer / Feature Dataset):\n",
      "     The feature class, feature layer, or feature dataset to be projected.\n",
      " out_coor_system (Coordinate System):\n",
      "     Valid values are a Spatial Reference object, a file with a .prj\n",
      "     extension, or a string representation of a coordinate system.\n",
      " transform_method {String}:\n",
      "     This method can be used for converting data between two geographic\n",
      "---Return to continue, q to quit---                                    \u001b[0m     coordinate systems or datums. This optional parameter may be required\n",
      "     if the input and output coordinate systems have different datum.To get\n",
      "     a list of valid transformations, use the\n",
      "     arcpy.ListTransformations method. The most appropriate transformation\n",
      "     is usually the first one in the returned list. The list is sorted by\n",
      "     amount of overlap of the data versus the areas of use of the\n",
      "     transformations. If two or more transformations have the same amount\n",
      "     of overlap with the data, the transformation accuracy values are used\n",
      "     as a secondary sort parameter.Transformations are bidirectional. For\n",
      "     example, if you're converting\n",
      "     data from WGS 1984 to NAD 1927, you can choose a transformation called\n",
      "     NAD_1927_to_WGS_1984_3, and the tool will apply it correctly. If no\n",
      "     transformation is provided, a default transformation is used. This\n",
      "     default transformation is suitable for general mapping applications\n",
      "     but may not be suitable for applications that require precise\n",
      "     locational accuracy.\n",
      " in_coor_system {Coordinate System}:\n",
      "     The coordinate system of the input feature class or dataset. When the\n",
      "     input has an unknown or unspecified coordinate system, you can specify\n",
      "     the data's coordinate system without having to modify the input data\n",
      "     (which may not be possible if the input is in read-only format).\n",
      " preserve_shape {Boolean}:\n",
      "     Specifies whether vertices will be added to the output lines or\n",
      "     polygons so their projected shape is more accurate.\n",
      "---Return to continue, q to quit---                                    \u001b[0m\n",
      "     * NO_PRESERVE_SHAPE-Extra vertices are not added to the output lines\n",
      "     or polygons. This is the default.\n",
      "\n",
      "     * PRESERVE_SHAPE-Extra vertices are added to the output lines or\n",
      "     polygons, as needed, so their projected shape is more accurate.\n",
      " max_deviation {Linear Unit}:\n",
      "     The distance a projected line or polygon can deviate from its exact\n",
      "     projected location when the preserve_shape parameter is set to\n",
      "     PRESERVE_SHAPE. The default is 100 times the x,y tolerance of the\n",
      "     spatial reference of the output dataset.\n",
      " vertical {Boolean}:\n",
      "     Specifies whether a vertical transformation will be applied.This\n",
      "     parameter is only enabled when the input and output coordinate\n",
      "     systems have a vertical coordinate system and the input feature class\n",
      "     coordinates have z-values. Also, many vertical transformations require\n",
      "     additional data files that must be installed using the ArcGIS\n",
      "     Coordinate Systems Data installation package.This option is not\n",
      "     compatible with the preserve_shape parameter.\n",
      "\n",
      "     * NO_VERTICAL-No vertical transformation is applied. The z-values of\n",
      "     geometry coordinates will be ignored and the z-values will not be\n",
      "     modified. This is the default.\n",
      "\n",
      "---Return to continue, q to quit---                                    \u001b[0m     * VERTICAL-The transformation specified in the transform_method\n",
      "     parameter is applied. The Project tool transforms x-, y-, and z-values\n",
      "     of geometry coordinates.\n",
      "\n",
      "OUTPUTS:\n",
      " out_dataset (Feature Class / Feature Dataset):\n",
      "     The output dataset to which the results will be written.\n",
      "\u001b[1;31mFile:\u001b[0m      c:\\program files\\arcgis\\pro\\resources\\arcpy\\arcpy\\management.py\n",
      "\u001b[1;31mType:\u001b[0m      function\n"
     ]
    }
   ],
   "source": [
    "arcpy.management.Project?"
   ]
  },
  {
   "cell_type": "code",
   "execution_count": null,
   "metadata": {},
   "outputs": [],
   "source": []
  },
  {
   "cell_type": "code",
   "execution_count": null,
   "metadata": {},
   "outputs": [],
   "source": []
  },
  {
   "cell_type": "code",
   "execution_count": null,
   "metadata": {},
   "outputs": [],
   "source": []
  }
 ],
 "metadata": {
  "kernelspec": {
   "display_name": "ArcGISPro",
   "language": "Python",
   "name": "python3"
  },
  "language_info": {
   "file_extension": ".py",
   "name": "python",
   "version": "3"
  }
 },
 "nbformat": 4,
 "nbformat_minor": 2
}
