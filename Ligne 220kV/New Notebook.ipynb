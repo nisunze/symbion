{
 "cells": [
  {
   "cell_type": "code",
   "execution_count": 2,
   "metadata": {},
   "outputs": [],
   "source": [
    "import pandas as pd\n",
    "import numpy as np\n",
    "from arcgis.features import GeoAccessor, GeoSeriesAccessor\n",
    "import arcpy \n",
    "\n",
    "import plotly\n",
    "import os\n",
    "from pathlib import Path"
   ]
  },
  {
   "cell_type": "code",
   "execution_count": 7,
   "metadata": {
    "scrolled": true
   },
   "outputs": [
    {
     "data": {
      "text/plain": [
       "'G:\\\\Ref\\\\Rwanda Map StylizedVillage_Boundaries.shp'"
      ]
     },
     "execution_count": 7,
     "metadata": {},
     "output_type": "execute_result"
    }
   ],
   "source": [
    "path = r'G:\\Ref\\Rwanda Map Stylized'\n",
    "village = 'Village_Boundaries.shp'\n",
    "villages = path + village\n",
    "villages"
   ]
  },
  {
   "cell_type": "code",
   "execution_count": 8,
   "metadata": {},
   "outputs": [
    {
     "ename": "ExecuteError",
     "evalue": "Failed to execute. Parameters are not valid.\nERROR 000732: Input Features: Dataset G:\\Ref\\Rwanda Map StylizedVillage_Boundaries.shp does not exist or is not supported\nERROR 000735: Output Layer: Value is required\nFailed to execute (MakeFeatureLayer).\n",
     "output_type": "error",
     "traceback": [
      "\u001b[0;31m---------------------------------------------------------------------------\u001b[0m\n\u001b[0;31mExecuteError\u001b[0m                              Traceback (most recent call last)",
      "In  \u001b[0;34m[8]\u001b[0m:\nLine \u001b[0;34m1\u001b[0m:     lyr = arcpy.management.MakeFeatureLayer(villages)[\u001b[34m0\u001b[39;49;00m]\n",
      "File \u001b[0;34mc:\\program files\\arcgis\\pro\\Resources\\arcpy\\arcpy\\management.py\u001b[0m, in \u001b[0;32mMakeFeatureLayer\u001b[0m:\nLine \u001b[0;34m7913\u001b[0m:  \u001b[34mraise\u001b[39;49;00m e\n",
      "File \u001b[0;34mc:\\program files\\arcgis\\pro\\Resources\\arcpy\\arcpy\\management.py\u001b[0m, in \u001b[0;32mMakeFeatureLayer\u001b[0m:\nLine \u001b[0;34m7910\u001b[0m:  retval = convertArcObjectToPythonObject(gp.MakeFeatureLayer_management(*gp_fixargs((in_features, out_layer, where_clause, workspace, field_info), \u001b[34mTrue\u001b[39;49;00m)))\n",
      "File \u001b[0;34mc:\\program files\\arcgis\\pro\\Resources\\arcpy\\arcpy\\geoprocessing\\_base.py\u001b[0m, in \u001b[0;32m<lambda>\u001b[0m:\nLine \u001b[0;34m511\u001b[0m:   \u001b[34mreturn\u001b[39;49;00m \u001b[34mlambda\u001b[39;49;00m *args: val(*gp_fixargs(args, \u001b[34mTrue\u001b[39;49;00m))\n",
      "\u001b[0;31mExecuteError\u001b[0m: Failed to execute. Parameters are not valid.\nERROR 000732: Input Features: Dataset G:\\Ref\\Rwanda Map StylizedVillage_Boundaries.shp does not exist or is not supported\nERROR 000735: Output Layer: Value is required\nFailed to execute (MakeFeatureLayer).\n\n\u001b[0;31m---------------------------------------------------------------------------\u001b[0m"
     ]
    }
   ],
   "source": [
    "lyr = arcpy.management.MakeFeatureLayer(villages)[0]"
   ]
  },
  {
   "cell_type": "code",
   "execution_count": null,
   "metadata": {},
   "outputs": [],
   "source": []
  },
  {
   "cell_type": "code",
   "execution_count": null,
   "metadata": {},
   "outputs": [],
   "source": []
  }
 ],
 "metadata": {
  "kernelspec": {
   "display_name": "ArcGISPro",
   "language": "Python",
   "name": "python3"
  },
  "language_info": {
   "file_extension": ".py",
   "name": "python",
   "version": "3"
  }
 },
 "nbformat": 4,
 "nbformat_minor": 2
}
