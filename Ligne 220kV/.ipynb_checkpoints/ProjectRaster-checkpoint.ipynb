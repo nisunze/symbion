{
 "cells": [
  {
   "cell_type": "code",
   "execution_count": 2,
   "metadata": {},
   "outputs": [],
   "source": [
    "import arcpy\n",
    "import pandas as pd\n",
    "from pathlib import Path"
   ]
  },
  {
   "cell_type": "code",
   "execution_count": 3,
   "metadata": {},
   "outputs": [],
   "source": [
    "def project_image(image):\n",
    "    arcpy.env.workspace = r\"D:\\pro\\AEE\\220kV Line\\Ligne 220kV\\Ligne 220kV.gdb\"\n",
    "    arcpy.env.overwriteOutput = True\n",
    "    return arcpy.management.ProjectRaster(r\"Ortho\\2DNW1.ecw\",\n",
    "                               r\"D:\\pro\\AEE\\220kV Line\\Ligne 220kV\\Ligne 220kV.gdb\\c2DNW1_ProjectRaster1\",\n",
    "                               \"PROJCS['NIX',GEOGCS['GCS_WGS_1984',DATUM['D_WGS_1984',SPHEROID['WGS_1984',6378137.0,298.257223563]],PRIMEM['Greenwich',0.0],UNIT['Degree',0.0174532925199433]],PROJECTION['Transverse_Mercator'],PARAMETER['False_Easting',500000.0],PARAMETER['False_Northing',5000000.0],PARAMETER['Central_Meridian',30.0],PARAMETER['Scale_Factor',0.9999],PARAMETER['Latitude_Of_Origin',0.0],UNIT['Meter',1.0]]\", \"NEAREST\", \"0.25 0.25\", None, None, \"PROJCS['NIX',GEOGCS['GCS_WGS_1984',DATUM['D_WGS_1984',SPHEROID['WGS_1984',6378137.0,298.257223563]],PRIMEM['Greenwich',0.0],UNIT['Degree',0.0174532925199433]],PROJECTION['Transverse_Mercator'],PARAMETER['False_Easting',500000.0],PARAMETER['False_Northing',5000000.0],PARAMETER['Central_Meridian',30.0],PARAMETER['Scale_Factor',0.9999],PARAMETER['Latitude_Of_Origin',0.0],UNIT['Meter',1.0]]\", \"NO_VERTICAL\")\n"
   ]
  },
  {
   "cell_type": "code",
   "execution_count": 16,
   "metadata": {},
   "outputs": [],
   "source": [
    "def walk(directory):\n",
    "  file_number = []\n",
    "  file_name = []\n",
    "  file_size = []\n",
    "  file_path = []\n",
    "  drive = []\n",
    "  full_path = []\n",
    "  for number, file in enumerate(directory.rglob('*.*')):\n",
    "    if file.is_file():\n",
    "      file_number.append(number)\n",
    "      file_name.append(file.name)\n",
    "      file_size.append(file.stat().st_size)\n",
    "      file_path.append(Path('/'.join(file.parent.parts[1:]) + '/' + str(file.name)))\n",
    "      drive.append(Path(file.parent.parts[0]))\n",
    "      full_path.append(Path(str(file.parent) + '/' + str(file.name)))\n",
    "  file_df = pd.DataFrame({'name' : file_name, 'size' : file_size, 'Unit' : 'KB', 'Drive' : drive, 'Path' : file_path, 'Full Path' : full_path}, index=file_number)\n",
    "  file_df['size'] = file_df['size']/1000\n",
    "  return file_df"
   ]
  },
  {
   "cell_type": "code",
   "execution_count": 24,
   "metadata": {},
   "outputs": [
    {
     "data": {
      "text/plain": [
       "WindowsPath('G:/Datum/Rwanda IRTF/1BNE1.ecw')"
      ]
     },
     "execution_count": 24,
     "metadata": {},
     "output_type": "execute_result"
    }
   ],
   "source": [
    "ortho_path = Path(r\"G:\\Datum\\Rwanda IRTF\")\n",
    "orthos = walk(ortho_path)\n",
    "orthos = orthos.loc[:, 'Full Path']\n",
    "orthos[2]"
   ]
  },
  {
   "cell_type": "code",
   "execution_count": 20,
   "metadata": {},
   "outputs": [],
   "source": []
  },
  {
   "cell_type": "code",
   "execution_count": null,
   "metadata": {},
   "outputs": [],
   "source": []
  },
  {
   "cell_type": "code",
   "execution_count": null,
   "metadata": {},
   "outputs": [],
   "source": []
  },
  {
   "cell_type": "code",
   "execution_count": null,
   "metadata": {},
   "outputs": [],
   "source": []
  },
  {
   "cell_type": "code",
   "execution_count": null,
   "metadata": {},
   "outputs": [],
   "source": []
  },
  {
   "cell_type": "code",
   "execution_count": null,
   "metadata": {},
   "outputs": [],
   "source": []
  },
  {
   "cell_type": "code",
   "execution_count": null,
   "metadata": {},
   "outputs": [],
   "source": []
  }
 ],
 "metadata": {
  "kernelspec": {
   "display_name": "ArcGISPro",
   "language": "Python",
   "name": "python3"
  },
  "language_info": {
   "file_extension": ".py",
   "name": "python",
   "version": "3"
  }
 },
 "nbformat": 4,
 "nbformat_minor": 2
}
