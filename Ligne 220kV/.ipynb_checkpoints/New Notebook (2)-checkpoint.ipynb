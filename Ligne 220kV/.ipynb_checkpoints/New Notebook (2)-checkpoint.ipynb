{
 "cells": [
  {
   "cell_type": "code",
   "execution_count": 7,
   "metadata": {},
   "outputs": [],
   "source": [
    "import os\n",
    "import arcpy\n",
    "from pathlib import Path\n",
    "import pandas as pd"
   ]
  },
  {
   "cell_type": "code",
   "execution_count": 8,
   "metadata": {},
   "outputs": [],
   "source": [
    "def coord_sys(image):\n",
    "    return arcpy.management.DefineProjection(image, \"PROJCS['NIX',GEOGCS['GCS_WGS_1984',DATUM['D_WGS_1984',SPHEROID['WGS_1984',6378137.0,298.257223563]],PRIMEM['Greenwich',0.0],UNIT['Degree',0.0174532925199433]],PROJECTION['Transverse_Mercator'],PARAMETER['False_Easting',500000.0],PARAMETER['False_Northing',5000000.0],PARAMETER['Central_Meridian',30.0],PARAMETER['Scale_Factor',0.9999],PARAMETER['Latitude_Of_Origin',0.0],UNIT['Meter',1.0]]\")"
   ]
  },
  {
   "cell_type": "code",
   "execution_count": 9,
   "metadata": {},
   "outputs": [],
   "source": [
    "path = Path(r'G:\\Datum\\Rwanda IRTF')"
   ]
  },
  {
   "cell_type": "code",
   "execution_count": 10,
   "metadata": {},
   "outputs": [],
   "source": [
    "def walk_dir(directory):\n",
    "  file_number = []\n",
    "  file_name = []\n",
    "  file_size = []\n",
    "  file_path = []\n",
    "  drive = []\n",
    "  full_path = []\n",
    "  for number, file in enumerate(directory.rglob('*.ecw')):\n",
    "    if file.is_file():\n",
    "      file_number.append(number)\n",
    "      file_name.append(file.name)\n",
    "      file_size.append(file.stat().st_size)\n",
    "      file_path.append(Path('/'.join(file.parent.parts[1:]) + '/' + str(file.name)))\n",
    "      drive.append(Path(file.parent.parts[0]))\n",
    "      full_path.append(Path(str(file.parent) + '/' + str(file.name)))\n",
    "  file_df = pd.DataFrame({'name' : file_name, 'size' : file_size, 'Unit' : 'KB', 'Drive' : drive, 'Path' : file_path, 'Full Path' : full_path}, index=file_number)\n",
    "  file_df['size'] = file_df['size']/1000\n",
    "  return file_df"
   ]
  },
  {
   "cell_type": "code",
   "execution_count": 12,
   "metadata": {},
   "outputs": [],
   "source": [
    "df = walk_dir(path)\n",
    "paths = df['Full Path']"
   ]
  },
  {
   "cell_type": "code",
   "execution_count": 13,
   "metadata": {},
   "outputs": [
    {
     "data": {
      "text/plain": [
       "0              G:\\Datum\\Rwanda IRTF\\1ane2 (2).ecw\n",
       "1                  G:\\Datum\\Rwanda IRTF\\1BNE1.ecw\n",
       "2                  G:\\Datum\\Rwanda IRTF\\1BNE2.ecw\n",
       "3                  G:\\Datum\\Rwanda IRTF\\1BNE3.ecw\n",
       "4                  G:\\Datum\\Rwanda IRTF\\1BNE4.ecw\n",
       "                          ...                    \n",
       "212         G:\\Datum\\Rwanda IRTF\\Kigali\\3DNW1.ecw\n",
       "213         G:\\Datum\\Rwanda IRTF\\Kigali\\3DNW2.ecw\n",
       "214         G:\\Datum\\Rwanda IRTF\\Kigali\\3DNW3.ecw\n",
       "215         G:\\Datum\\Rwanda IRTF\\Kigali\\3DNW4.ecw\n",
       "216    G:\\Datum\\Rwanda IRTF\\Low quality\\1ANE2.ecw\n",
       "Name: Full Path, Length: 217, dtype: object"
      ]
     },
     "execution_count": 13,
     "metadata": {},
     "output_type": "execute_result"
    }
   ],
   "source": [
    "paths"
   ]
  },
  {
   "cell_type": "code",
   "execution_count": null,
   "metadata": {},
   "outputs": [],
   "source": []
  },
  {
   "cell_type": "code",
   "execution_count": null,
   "metadata": {},
   "outputs": [],
   "source": []
  }
 ],
 "metadata": {
  "kernelspec": {
   "display_name": "ArcGISPro",
   "language": "Python",
   "name": "python3"
  },
  "language_info": {
   "file_extension": ".py",
   "name": "python",
   "version": "3"
  }
 },
 "nbformat": 4,
 "nbformat_minor": 2
}
