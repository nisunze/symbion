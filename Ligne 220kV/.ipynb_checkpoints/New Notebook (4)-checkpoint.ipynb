{
 "cells": [
  {
   "cell_type": "code",
   "execution_count": 28,
   "metadata": {},
   "outputs": [],
   "source": [
    "from pathlib import Path\n",
    "import pandas as pd\n",
    "def walk(directory):\n",
    "  file_number = []\n",
    "  file_name = []\n",
    "  file_size = []\n",
    "  file_path = []\n",
    "  drive = []\n",
    "  full_path = []\n",
    "  for number, file in enumerate(directory.rglob('*.xyz')):\n",
    "    if file.is_file():\n",
    "      file_number.append(number)\n",
    "      file_name.append(file.name)\n",
    "      file_size.append(file.stat().st_size)\n",
    "      file_path.append(Path('/'.join(file.parent.parts[1:]) + '/' + str(file.name)))\n",
    "      drive.append(Path(file.parent.parts[0]))\n",
    "      full_path.append(Path(str(file.parent) + '/' + str(file.name)))\n",
    "  file_df = pd.DataFrame({'name' : file_name, 'size' : file_size, 'Unit' : 'KB', 'Drive' : drive, 'Path' : file_path, 'Full Path' : full_path}, index=file_number)\n",
    "  file_df['size'] = file_df['size']/1000\n",
    "  return file_df"
   ]
  },
  {
   "cell_type": "code",
   "execution_count": null,
   "metadata": {},
   "outputs": [],
   "source": [
    "df = walk(Path(r'G:\\\\'))"
   ]
  },
  {
   "cell_type": "code",
   "execution_count": null,
   "metadata": {},
   "outputs": [],
   "source": [
    "df"
   ]
  },
  {
   "cell_type": "code",
   "execution_count": null,
   "metadata": {},
   "outputs": [],
   "source": []
  }
 ],
 "metadata": {
  "kernelspec": {
   "display_name": "ArcGISPro",
   "language": "Python",
   "name": "python3"
  },
  "language_info": {
   "file_extension": ".py",
   "name": "python",
   "version": "3"
  }
 },
 "nbformat": 4,
 "nbformat_minor": 2
}
