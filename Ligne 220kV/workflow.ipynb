{
 "cells": [
  {
   "cell_type": "code",
   "execution_count": 50,
   "metadata": {},
   "outputs": [],
   "source": [
    "import pandas as pd\n",
    "from pathlib import Path\n",
    "import re"
   ]
  },
  {
   "cell_type": "code",
   "execution_count": 51,
   "metadata": {},
   "outputs": [],
   "source": [
    "lineroute_points = Path(r'D:\\pro\\AEE\\220kV Line\\Data\\Lineroute.txt')\n",
    "substations_points = Path(r'D:\\pro\\AEE\\220kV Line\\Data\\Substations.txt')\n",
    "\n",
    "def parse_line_points(point_file_path):\n",
    "    \n",
    "    pts = pd.read_csv(point_file_path, header=None)\n",
    "    pts.rename(columns={0: 'original'}, inplace=True)\n",
    "\n",
    "    splits = [re.split('\\s+', sent) for sent in pts.loc[:, 'original']]\n",
    "    original_point_id = [col[0] for col in splits]\n",
    "    x_35s = [col[1] for col in splits]\n",
    "    y_36s = [col[2] for col in splits]\n",
    "    new_point_id = [col[3] for col in splits]\n",
    "    x_nix = [col[4] for col in splits]\n",
    "    y_nix = [col[5] for col in splits]\n",
    "    observations = [col[6:] for col in splits]\n",
    "    observations = [' '.join(obs) for obs in observations]\n",
    "\n",
    "    df_original_points_line = pd.DataFrame({'original_point_id': original_point_id,\n",
    "                                      'x_35s': x_35s,\n",
    "                                      'y_35s': x_35s,\n",
    "                                      'new_point_id': new_point_id,\n",
    "                                      'x_nix': x_nix,\n",
    "                                      'y_nix': y_nix,\n",
    "                                      'observations': observations})\n",
    "\n",
    "    original_lineroute = df_original_points_line.iloc[:,:3]\n",
    "\n",
    "    surveyed_lineroute = df_original_points_line.iloc[:, 3:]\n",
    "\n",
    "    surveyed_lineroute_file = lineroute_points.parent/'lineroute_coordinates.csv'\n",
    "    surveyed_lineroute.to_csv(surveyed_lineroute_file, header=False, index=False)"
   ]
  },
  {
   "cell_type": "code",
   "execution_count": 52,
   "metadata": {},
   "outputs": [
    {
     "ename": "NameError",
     "evalue": "name 'output_path' is not defined",
     "output_type": "error",
     "traceback": [
      "\u001b[0;31m---------------------------------------------------------------------------\u001b[0m\n\u001b[0;31mNameError\u001b[0m                                 Traceback (most recent call last)",
      "In  \u001b[0;34m[52]\u001b[0m:\nLine \u001b[0;34m1\u001b[0m:     parse_line_points(lineroute_points, output_path)\n",
      "\u001b[0;31mNameError\u001b[0m: name 'output_path' is not defined\n\u001b[0;31m---------------------------------------------------------------------------\u001b[0m"
     ]
    }
   ],
   "source": [
    "parse_line_points(lineroute_points, output_path)"
   ]
  },
  {
   "cell_type": "code",
   "execution_count": null,
   "metadata": {},
   "outputs": [],
   "source": []
  }
 ],
 "metadata": {
  "kernelspec": {
   "display_name": "ArcGISPro",
   "language": "Python",
   "name": "python3"
  },
  "language_info": {
   "file_extension": ".py",
   "name": "python",
   "version": "3"
  }
 },
 "nbformat": 4,
 "nbformat_minor": 2
}
