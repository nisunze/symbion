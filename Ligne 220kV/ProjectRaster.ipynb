{
 "cells": [
  {
   "cell_type": "code",
   "execution_count": 25,
   "metadata": {},
   "outputs": [],
   "source": [
    "import arcpy\n",
    "import pandas as pd\n",
    "from pathlib import Path"
   ]
  },
  {
   "cell_type": "code",
   "execution_count": 26,
   "metadata": {},
   "outputs": [],
   "source": [
    "def project_image(image_path):\n",
    "    arcpy.env.workspace = r\"D:\\pro\\AEE\\220kV Line\\Ligne 220kV\\Ligne 220kV.gdb\"\n",
    "    arcpy.env.overwriteOutput = True\n",
    "    new_name = 'c_' + image_path.stem + '_projected'\n",
    "    return arcpy.management.ProjectRaster(str(image_path),\n",
    "                               new_name,\n",
    "                               \"PROJCS['NIX',GEOGCS['GCS_WGS_1984',DATUM['D_WGS_1984',SPHEROID['WGS_1984',6378137.0,298.257223563]],PRIMEM['Greenwich',0.0],UNIT['Degree',0.0174532925199433]],PROJECTION['Transverse_Mercator'],PARAMETER['False_Easting',500000.0],PARAMETER['False_Northing',5000000.0],PARAMETER['Central_Meridian',30.0],PARAMETER['Scale_Factor',0.9999],PARAMETER['Latitude_Of_Origin',0.0],UNIT['Meter',1.0]]\", \"NEAREST\", \"0.25 0.25\", None, None, \"PROJCS['NIX',GEOGCS['GCS_WGS_1984',DATUM['D_WGS_1984',SPHEROID['WGS_1984',6378137.0,298.257223563]],PRIMEM['Greenwich',0.0],UNIT['Degree',0.0174532925199433]],PROJECTION['Transverse_Mercator'],PARAMETER['False_Easting',500000.0],PARAMETER['False_Northing',5000000.0],PARAMETER['Central_Meridian',30.0],PARAMETER['Scale_Factor',0.9999],PARAMETER['Latitude_Of_Origin',0.0],UNIT['Meter',1.0]]\", \"NO_VERTICAL\")\n"
   ]
  },
  {
   "cell_type": "code",
   "execution_count": 30,
   "metadata": {},
   "outputs": [],
   "source": [
    "def walk(directory):\n",
    "  file_number = []\n",
    "  file_name = []\n",
    "  file_size = []\n",
    "  file_path = []\n",
    "  drive = []\n",
    "  full_path = []\n",
    "  for number, file in enumerate(directory.rglob('*.ecw')):\n",
    "    if file.is_file():\n",
    "      file_number.append(number)\n",
    "      file_name.append(file.name)\n",
    "      file_size.append(file.stat().st_size)\n",
    "      file_path.append(Path('/'.join(file.parent.parts[1:]) + '/' + str(file.name)))\n",
    "      drive.append(Path(file.parent.parts[0]))\n",
    "      full_path.append(Path(str(file.parent) + '/' + str(file.name)))\n",
    "  file_df = pd.DataFrame({'name' : file_name, 'size' : file_size, 'Unit' : 'KB', 'Drive' : drive, 'Path' : file_path, 'Full Path' : full_path}, index=file_number)\n",
    "  file_df['size'] = file_df['size']/1000\n",
    "  return file_df"
   ]
  },
  {
   "cell_type": "code",
   "execution_count": 31,
   "metadata": {},
   "outputs": [],
   "source": [
    "ortho_path = Path(r\"G:\\Datum\\Rwanda IRTF\")\n",
    "orthos = walk(ortho_path)\n",
    "orthos = orthos.loc[:, 'Full Path']"
   ]
  },
  {
   "cell_type": "code",
   "execution_count": 33,
   "metadata": {},
   "outputs": [
    {
     "ename": "ExecuteError",
     "evalue": "ERROR 000151: The geotransformation(s) is not valid.\nFailed to execute (ProjectRaster).\n",
     "output_type": "error",
     "traceback": [
      "\u001b[0;31m---------------------------------------------------------------------------\u001b[0m\n\u001b[0;31mExecuteError\u001b[0m                              Traceback (most recent call last)",
      "In  \u001b[0;34m[33]\u001b[0m:\nLine \u001b[0;34m1\u001b[0m:     project_image(orthos[\u001b[34m10\u001b[39;49;00m])\n",
      "In  \u001b[0;34m[26]\u001b[0m:\nLine \u001b[0;34m7\u001b[0m:     \u001b[33m\"\u001b[39;49;00m\u001b[33mPROJCS[\u001b[39;49;00m\u001b[33m'\u001b[39;49;00m\u001b[33mNIX\u001b[39;49;00m\u001b[33m'\u001b[39;49;00m\u001b[33m,GEOGCS[\u001b[39;49;00m\u001b[33m'\u001b[39;49;00m\u001b[33mGCS_WGS_1984\u001b[39;49;00m\u001b[33m'\u001b[39;49;00m\u001b[33m,DATUM[\u001b[39;49;00m\u001b[33m'\u001b[39;49;00m\u001b[33mD_WGS_1984\u001b[39;49;00m\u001b[33m'\u001b[39;49;00m\u001b[33m,SPHEROID[\u001b[39;49;00m\u001b[33m'\u001b[39;49;00m\u001b[33mWGS_1984\u001b[39;49;00m\u001b[33m'\u001b[39;49;00m\u001b[33m,6378137.0,298.257223563]],PRIMEM[\u001b[39;49;00m\u001b[33m'\u001b[39;49;00m\u001b[33mGreenwich\u001b[39;49;00m\u001b[33m'\u001b[39;49;00m\u001b[33m,0.0],UNIT[\u001b[39;49;00m\u001b[33m'\u001b[39;49;00m\u001b[33mDegree\u001b[39;49;00m\u001b[33m'\u001b[39;49;00m\u001b[33m,0.0174532925199433]],PROJECTION[\u001b[39;49;00m\u001b[33m'\u001b[39;49;00m\u001b[33mTransverse_Mercator\u001b[39;49;00m\u001b[33m'\u001b[39;49;00m\u001b[33m],PARAMETER[\u001b[39;49;00m\u001b[33m'\u001b[39;49;00m\u001b[33mFalse_Easting\u001b[39;49;00m\u001b[33m'\u001b[39;49;00m\u001b[33m,500000.0],PARAMETER[\u001b[39;49;00m\u001b[33m'\u001b[39;49;00m\u001b[33mFalse_Northing\u001b[39;49;00m\u001b[33m'\u001b[39;49;00m\u001b[33m,5000000.0],PARAMETER[\u001b[39;49;00m\u001b[33m'\u001b[39;49;00m\u001b[33mCentral_Meridian\u001b[39;49;00m\u001b[33m'\u001b[39;49;00m\u001b[33m,30.0],PARAMETER[\u001b[39;49;00m\u001b[33m'\u001b[39;49;00m\u001b[33mScale_Factor\u001b[39;49;00m\u001b[33m'\u001b[39;49;00m\u001b[33m,0.9999],PARAMETER[\u001b[39;49;00m\u001b[33m'\u001b[39;49;00m\u001b[33mLatitude_Of_Origin\u001b[39;49;00m\u001b[33m'\u001b[39;49;00m\u001b[33m,0.0],UNIT[\u001b[39;49;00m\u001b[33m'\u001b[39;49;00m\u001b[33mMeter\u001b[39;49;00m\u001b[33m'\u001b[39;49;00m\u001b[33m,1.0]]\u001b[39;49;00m\u001b[33m\"\u001b[39;49;00m, \u001b[33m\"\u001b[39;49;00m\u001b[33mNEAREST\u001b[39;49;00m\u001b[33m\"\u001b[39;49;00m, \u001b[33m\"\u001b[39;49;00m\u001b[33m0.25 0.25\u001b[39;49;00m\u001b[33m\"\u001b[39;49;00m, \u001b[34mNone\u001b[39;49;00m, \u001b[34mNone\u001b[39;49;00m, \u001b[33m\"\u001b[39;49;00m\u001b[33mPROJCS[\u001b[39;49;00m\u001b[33m'\u001b[39;49;00m\u001b[33mNIX\u001b[39;49;00m\u001b[33m'\u001b[39;49;00m\u001b[33m,GEOGCS[\u001b[39;49;00m\u001b[33m'\u001b[39;49;00m\u001b[33mGCS_WGS_1984\u001b[39;49;00m\u001b[33m'\u001b[39;49;00m\u001b[33m,DATUM[\u001b[39;49;00m\u001b[33m'\u001b[39;49;00m\u001b[33mD_WGS_1984\u001b[39;49;00m\u001b[33m'\u001b[39;49;00m\u001b[33m,SPHEROID[\u001b[39;49;00m\u001b[33m'\u001b[39;49;00m\u001b[33mWGS_1984\u001b[39;49;00m\u001b[33m'\u001b[39;49;00m\u001b[33m,6378137.0,298.257223563]],PRIMEM[\u001b[39;49;00m\u001b[33m'\u001b[39;49;00m\u001b[33mGreenwich\u001b[39;49;00m\u001b[33m'\u001b[39;49;00m\u001b[33m,0.0],UNIT[\u001b[39;49;00m\u001b[33m'\u001b[39;49;00m\u001b[33mDegree\u001b[39;49;00m\u001b[33m'\u001b[39;49;00m\u001b[33m,0.0174532925199433]],PROJECTION[\u001b[39;49;00m\u001b[33m'\u001b[39;49;00m\u001b[33mTransverse_Mercator\u001b[39;49;00m\u001b[33m'\u001b[39;49;00m\u001b[33m],PARAMETER[\u001b[39;49;00m\u001b[33m'\u001b[39;49;00m\u001b[33mFalse_Easting\u001b[39;49;00m\u001b[33m'\u001b[39;49;00m\u001b[33m,500000.0],PARAMETER[\u001b[39;49;00m\u001b[33m'\u001b[39;49;00m\u001b[33mFalse_Northing\u001b[39;49;00m\u001b[33m'\u001b[39;49;00m\u001b[33m,5000000.0],PARAMETER[\u001b[39;49;00m\u001b[33m'\u001b[39;49;00m\u001b[33mCentral_Meridian\u001b[39;49;00m\u001b[33m'\u001b[39;49;00m\u001b[33m,30.0],PARAMETER[\u001b[39;49;00m\u001b[33m'\u001b[39;49;00m\u001b[33mScale_Factor\u001b[39;49;00m\u001b[33m'\u001b[39;49;00m\u001b[33m,0.9999],PARAMETER[\u001b[39;49;00m\u001b[33m'\u001b[39;49;00m\u001b[33mLatitude_Of_Origin\u001b[39;49;00m\u001b[33m'\u001b[39;49;00m\u001b[33m,0.0],UNIT[\u001b[39;49;00m\u001b[33m'\u001b[39;49;00m\u001b[33mMeter\u001b[39;49;00m\u001b[33m'\u001b[39;49;00m\u001b[33m,1.0]]\u001b[39;49;00m\u001b[33m\"\u001b[39;49;00m, \u001b[33m\"\u001b[39;49;00m\u001b[33mNO_VERTICAL\u001b[39;49;00m\u001b[33m\"\u001b[39;49;00m)\n",
      "File \u001b[0;34mc:\\program files\\arcgis\\pro\\Resources\\arcpy\\arcpy\\management.py\u001b[0m, in \u001b[0;32mProjectRaster\u001b[0m:\nLine \u001b[0;34m11740\u001b[0m: \u001b[34mraise\u001b[39;49;00m e\n",
      "File \u001b[0;34mc:\\program files\\arcgis\\pro\\Resources\\arcpy\\arcpy\\management.py\u001b[0m, in \u001b[0;32mProjectRaster\u001b[0m:\nLine \u001b[0;34m11737\u001b[0m: retval = convertArcObjectToPythonObject(gp.ProjectRaster_management(*gp_fixargs((in_raster, out_raster, out_coor_system, resampling_type, cell_size, geographic_transform, Registration_Point, in_coor_system, vertical), \u001b[34mTrue\u001b[39;49;00m)))\n",
      "File \u001b[0;34mc:\\program files\\arcgis\\pro\\Resources\\arcpy\\arcpy\\geoprocessing\\_base.py\u001b[0m, in \u001b[0;32m<lambda>\u001b[0m:\nLine \u001b[0;34m511\u001b[0m:   \u001b[34mreturn\u001b[39;49;00m \u001b[34mlambda\u001b[39;49;00m *args: val(*gp_fixargs(args, \u001b[34mTrue\u001b[39;49;00m))\n",
      "\u001b[0;31mExecuteError\u001b[0m: ERROR 000151: The geotransformation(s) is not valid.\nFailed to execute (ProjectRaster).\n\n\u001b[0;31m---------------------------------------------------------------------------\u001b[0m"
     ]
    }
   ],
   "source": [
    "project_image(orthos[10])"
   ]
  },
  {
   "cell_type": "code",
   "execution_count": null,
   "metadata": {},
   "outputs": [],
   "source": []
  },
  {
   "cell_type": "code",
   "execution_count": null,
   "metadata": {},
   "outputs": [],
   "source": []
  },
  {
   "cell_type": "code",
   "execution_count": null,
   "metadata": {},
   "outputs": [],
   "source": []
  },
  {
   "cell_type": "code",
   "execution_count": null,
   "metadata": {},
   "outputs": [],
   "source": []
  },
  {
   "cell_type": "code",
   "execution_count": null,
   "metadata": {},
   "outputs": [],
   "source": []
  },
  {
   "cell_type": "code",
   "execution_count": null,
   "metadata": {},
   "outputs": [],
   "source": []
  }
 ],
 "metadata": {
  "kernelspec": {
   "display_name": "ArcGISPro",
   "language": "Python",
   "name": "python3"
  },
  "language_info": {
   "file_extension": ".py",
   "name": "python",
   "version": "3"
  }
 },
 "nbformat": 4,
 "nbformat_minor": 2
}
